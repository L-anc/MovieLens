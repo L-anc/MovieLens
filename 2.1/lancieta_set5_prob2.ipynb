{
  "cells": [
    {
      "cell_type": "markdown",
      "metadata": {
        "id": "plqcgZfOalj-"
      },
      "source": [
        "[![Open In Colab](https://colab.research.google.com/assets/colab-badge.svg)](https://colab.research.google.com/github/emiletimothy/Caltech-CS155-2023/blob/main/set5/set5_prob2.ipynb)\n"
      ]
    },
    {
      "cell_type": "markdown",
      "metadata": {
        "id": "vonhL4yValkA"
      },
      "source": [
        "# Problem 2"
      ]
    },
    {
      "cell_type": "code",
      "execution_count": 1,
      "metadata": {
        "id": "7tRON0ZialkB"
      },
      "outputs": [],
      "source": [
        "import numpy as np\n",
        "import matplotlib.pyplot as plt"
      ]
    },
    {
      "cell_type": "code",
      "execution_count": 2,
      "metadata": {
        "colab": {
          "base_uri": "https://localhost:8080/"
        },
        "id": "ShSlSvA8alkC",
        "outputId": "beaef7cc-4752-49a5-e9ed-01ead3b5e008"
      },
      "outputs": [],
      "source": [
        "# # download the dataset\n",
        "# !wget -O train.txt https://raw.githubusercontent.com/emiletimothy/Caltech-CS155-2023/main/set5/data/train.txt\n",
        "# !wget -O test.txt https://raw.githubusercontent.com/emiletimothy/Caltech-CS155-2023/main/set5/data/test.txt"
      ]
    },
    {
      "cell_type": "markdown",
      "metadata": {
        "id": "-HGqHAlialkC"
      },
      "source": [
        "## 2C:\n",
        "Fill in these functions to train your SVD"
      ]
    },
    {
      "cell_type": "markdown",
      "metadata": {
        "id": "g7ci-rrSalkE"
      },
      "source": [
        "## 2D:\n",
        "Run the cell below to get your graphs"
      ]
    },
    {
      "cell_type": "code",
      "execution_count": 3,
      "metadata": {
        "id": "gkB-VAH2alkD"
      },
      "outputs": [],
      "source": [
        "from numpy.random.mtrand import gamma\n",
        "def grad_U(Ui, Yij, Vj, reg, eta):\n",
        "    \"\"\"\n",
        "    Takes as input Ui (the ith row of U), a training point Yij, the column\n",
        "    vector Vj (jth column of V^T), reg (the regularization parameter lambda),\n",
        "    and eta (the learning rate).\n",
        "\n",
        "    Returns the gradient of the regularized loss function with\n",
        "    respect to Ui multiplied by eta.\n",
        "    \"\"\"\n",
        "    sum = Vj*(Yij - np.dot(Ui, Vj))\n",
        "    grad = reg*Ui-sum\n",
        "    return eta*grad\n",
        "\n",
        "def grad_V(Vj, Yij, Ui, reg, eta):\n",
        "    \"\"\"\n",
        "    Takes as input the column vector Vj (jth column of V^T), a training point Yij,\n",
        "    Ui (the ith row of U), reg (the regularization parameter lambda),\n",
        "    and eta (the learning rate).\n",
        "\n",
        "    Returns the gradient of the regularized loss function with\n",
        "    respect to Vj multiplied by eta.\n",
        "    \"\"\"\n",
        "    sum = Ui*(Yij - np.dot(Ui, Vj))\n",
        "    grad = reg*Vj-sum\n",
        "    return eta*grad\n",
        "\n",
        "def get_err(U, V, Y, reg=0.0):\n",
        "    \"\"\"\n",
        "    Takes as input a matrix Y of triples (i, j, Y_ij) where i is the index of a user,\n",
        "    j is the index of a movie, and Y_ij is user i's rating of movie j and\n",
        "    user/movie matrices U and V.\n",
        "\n",
        "    Returns the mean regularized squared-error of predictions made by\n",
        "    estimating Y_{ij} as the dot product of the ith row of U and the jth column of V^T.\n",
        "    \"\"\"\n",
        "    sum = 0\n",
        "    for trip in Y:\n",
        "      i = trip[0]-1\n",
        "      j = trip[1]-1\n",
        "      Yij = trip[2]\n",
        "      sum += (Yij-np.dot(U[i], V[j]))**2\n",
        "      \n",
        "    return float(sum/(2*len(Y)))\n",
        "\n",
        "\n",
        "\n",
        "def train_model(M, N, K, eta, reg, Y, eps=0.0001, max_epochs=300):\n",
        "    \"\"\"\n",
        "    Given a training data matrix Y containing rows (i, j, Y_ij)\n",
        "    where Y_ij is user i's rating on movie j, learns an\n",
        "    M x K matrix U and N x K matrix V such that rating Y_ij is approximated\n",
        "    by (UV^T)_ij.\n",
        "\n",
        "    Uses a learning rate of <eta> and regularization of <reg>. Stops after\n",
        "    <max_epochs> epochs, or once the magnitude of the decrease in regularized\n",
        "    MSE between epochs is smaller than a fraction <eps> of the decrease in\n",
        "    MSE after the first epoch.\n",
        "\n",
        "    Returns a tuple (U, V, err) consisting of U, V, and the unregularized MSE\n",
        "    of the model.\n",
        "    \"\"\"\n",
        "    U = np.random.uniform(low=-0.5, high=0.5, size=(M,K))\n",
        "    V = np.random.uniform(low=-0.5, high=0.5, size=(N,K))\n",
        "    e=0\n",
        "    mse_0 = get_err(U, V, Y, reg)\n",
        "    prev_mse = mse_0\n",
        "    cur_mse = mse_0\n",
        "    first_mse = 0\n",
        "    first = True\n",
        "    while e<max_epochs:\n",
        "      np.random.shuffle(Y)\n",
        "      for trip in Y:\n",
        "        i = trip[0]-1\n",
        "        j = trip[1]-1\n",
        "        Yij = trip[2]\n",
        "        U[i] -= grad_U(U[i], Yij, V[j], reg, eta)\n",
        "        V[j] -= grad_V(V[j], Yij, U[i], reg, eta)\n",
        "\n",
        "      cur_mse = get_err(U, V, Y, reg)\n",
        "      if(first):\n",
        "        first_mse = mse_0-cur_mse\n",
        "        first = False\n",
        "      \n",
        "      if (prev_mse-cur_mse)<=(first_mse*eps):\n",
        "        break\n",
        "\n",
        "      prev_mse = cur_mse\n",
        "      e += 1\n",
        "\n",
        "    return U, V, cur_mse"
      ]
    },
    {
      "cell_type": "code",
      "execution_count": 4,
      "metadata": {
        "colab": {
          "base_uri": "https://localhost:8080/",
          "height": 313
        },
        "id": "TR0VOxmAalkF",
        "outputId": "12b35432-8839-4ddd-97fe-0647f321488a"
      },
      "outputs": [
        {
          "name": "stdout",
          "output_type": "stream",
          "text": [
            "Factorizing with  943  users,  1682  movies.\n"
          ]
        },
        {
          "data": {
            "image/png": "[encoded data removed]",
            "text/plain": [
              "<Figure size 640x480 with 1 Axes>"
            ]
          },
          "metadata": {},
          "output_type": "display_data"
        }
      ],
      "source": [
        "Y_train = np.loadtxt('train.txt').astype(int)\n",
        "Y_test = np.loadtxt('test.txt').astype(int)\n",
        "\n",
        "M = max(max(Y_train[:,0]), max(Y_test[:,0])).astype(int) # users\n",
        "N = max(max(Y_train[:,1]), max(Y_test[:,1])).astype(int) # movies\n",
        "print(\"Factorizing with \", M, \" users, \", N, \" movies.\")\n",
        "Ks = [10,20,30,50,100]\n",
        "\n",
        "reg = 0.0\n",
        "eta = 0.03 # learning rate\n",
        "E_in = []\n",
        "E_out = []\n",
        "\n",
        "# Use to compute Ein and Eout\n",
        "for K in Ks:\n",
        "    U,V, err = train_model(M, N, K, eta, reg, Y_train)\n",
        "    E_in.append(err)\n",
        "    E_out.append(get_err(U, V, Y_test))\n",
        "\n",
        "plt.plot(Ks, E_in, label='$E_{in}$')\n",
        "plt.plot(Ks, E_out, label='$E_{out}$')\n",
        "plt.title('Error vs. K')\n",
        "plt.xlabel('K')\n",
        "plt.ylabel('Error')\n",
        "plt.legend()\n",
        "plt.savefig('2d.png')"
      ]
    },
    {
      "cell_type": "markdown",
      "metadata": {
        "id": "yfCJX9GaalkG"
      },
      "source": [
        "## 2E:\n",
        "Run the cell below to get your graphs. This might take a long time to run, but it should take less than 2 hours. I would encourage you to validate your 2C is correct."
      ]
    },
    {
      "cell_type": "code",
      "execution_count": 5,
      "metadata": {
        "id": "oIkTHtTFalkH"
      },
      "outputs": [
        {
          "name": "stdout",
          "output_type": "stream",
          "text": [
            "Training model with M = 943, N = 1682, k = 10, eta = 0.03, reg = 0.0001\n",
            "Training model with M = 943, N = 1682, k = 20, eta = 0.03, reg = 0.0001\n",
            "Training model with M = 943, N = 1682, k = 30, eta = 0.03, reg = 0.0001\n",
            "Training model with M = 943, N = 1682, k = 50, eta = 0.03, reg = 0.0001\n"
          ]
        },
        {
          "ename": "KeyboardInterrupt",
          "evalue": "",
          "output_type": "error",
          "traceback": [
            "\u001b[1;31m---------------------------------------------------------------------------\u001b[0m",
            "\u001b[1;31mKeyboardInterrupt\u001b[0m                         Traceback (most recent call last)",
            "Cell \u001b[1;32mIn[5], line 20\u001b[0m\n\u001b[0;32m     18\u001b[0m \u001b[39mfor\u001b[39;00m k \u001b[39min\u001b[39;00m Ks:\n\u001b[0;32m     19\u001b[0m     \u001b[39mprint\u001b[39m(\u001b[39m\"\u001b[39m\u001b[39mTraining model with M = \u001b[39m\u001b[39m%s\u001b[39;00m\u001b[39m, N = \u001b[39m\u001b[39m%s\u001b[39;00m\u001b[39m, k = \u001b[39m\u001b[39m%s\u001b[39;00m\u001b[39m, eta = \u001b[39m\u001b[39m%s\u001b[39;00m\u001b[39m, reg = \u001b[39m\u001b[39m%s\u001b[39;00m\u001b[39m\"\u001b[39m\u001b[39m%\u001b[39m(M, N, k, eta, reg))\n\u001b[1;32m---> 20\u001b[0m     U,V, e_in \u001b[39m=\u001b[39m train_model(M, N, k, eta, reg, Y_train)\n\u001b[0;32m     21\u001b[0m     E_ins_for_lambda\u001b[39m.\u001b[39mappend(e_in)\n\u001b[0;32m     22\u001b[0m     eout \u001b[39m=\u001b[39m get_err(U, V, Y_test)\n",
            "Cell \u001b[1;32mIn[3], line 80\u001b[0m, in \u001b[0;36mtrain_model\u001b[1;34m(M, N, K, eta, reg, Y, eps, max_epochs)\u001b[0m\n\u001b[0;32m     77\u001b[0m   U[i] \u001b[39m-\u001b[39m\u001b[39m=\u001b[39m grad_U(U[i], Yij, V[j], reg, eta)\n\u001b[0;32m     78\u001b[0m   V[j] \u001b[39m-\u001b[39m\u001b[39m=\u001b[39m grad_V(V[j], Yij, U[i], reg, eta)\n\u001b[1;32m---> 80\u001b[0m cur_mse \u001b[39m=\u001b[39m get_err(U, V, Y, reg)\n\u001b[0;32m     81\u001b[0m \u001b[39mif\u001b[39;00m(first):\n\u001b[0;32m     82\u001b[0m   first_mse \u001b[39m=\u001b[39m mse_0\u001b[39m-\u001b[39mcur_mse\n",
            "Cell \u001b[1;32mIn[3], line 42\u001b[0m, in \u001b[0;36mget_err\u001b[1;34m(U, V, Y, reg)\u001b[0m\n\u001b[0;32m     40\u001b[0m   j \u001b[39m=\u001b[39m trip[\u001b[39m1\u001b[39m]\u001b[39m-\u001b[39m\u001b[39m1\u001b[39m\n\u001b[0;32m     41\u001b[0m   Yij \u001b[39m=\u001b[39m trip[\u001b[39m2\u001b[39m]\n\u001b[1;32m---> 42\u001b[0m   \u001b[39msum\u001b[39m \u001b[39m+\u001b[39m\u001b[39m=\u001b[39m (Yij\u001b[39m-\u001b[39mnp\u001b[39m.\u001b[39;49mdot(U[i], V[j]))\u001b[39m*\u001b[39m\u001b[39m*\u001b[39m\u001b[39m2\u001b[39m\n\u001b[0;32m     44\u001b[0m \u001b[39mreturn\u001b[39;00m \u001b[39mfloat\u001b[39m(\u001b[39msum\u001b[39m\u001b[39m/\u001b[39m(\u001b[39m2\u001b[39m\u001b[39m*\u001b[39m\u001b[39mlen\u001b[39m(Y)))\n",
            "File \u001b[1;32m<__array_function__ internals>:180\u001b[0m, in \u001b[0;36mdot\u001b[1;34m(*args, **kwargs)\u001b[0m\n",
            "\u001b[1;31mKeyboardInterrupt\u001b[0m: "
          ]
        }
      ],
      "source": [
        "Y_train = np.loadtxt('train.txt').astype(int)\n",
        "Y_test = np.loadtxt('test.txt').astype(int)\n",
        "\n",
        "M = max(max(Y_train[:,0]), max(Y_test[:,0])).astype(int) # users\n",
        "N = max(max(Y_train[:,1]), max(Y_test[:,1])).astype(int) # movies\n",
        "Ks = [10,20,30,50,100]\n",
        "\n",
        "regs = [10**-4, 10**-3, 10**-2, 10**-1, 1]\n",
        "eta = 0.03 # learning rate\n",
        "E_ins = []\n",
        "E_outs = []\n",
        "\n",
        "# Use to compute Ein and Eout\n",
        "for reg in regs:\n",
        "    E_ins_for_lambda = []\n",
        "    E_outs_for_lambda = []\n",
        "\n",
        "    for k in Ks:\n",
        "        print(\"Training model with M = %s, N = %s, k = %s, eta = %s, reg = %s\"%(M, N, k, eta, reg))\n",
        "        U,V, e_in = train_model(M, N, k, eta, reg, Y_train)\n",
        "        E_ins_for_lambda.append(e_in)\n",
        "        eout = get_err(U, V, Y_test)\n",
        "        E_outs_for_lambda.append(eout)\n",
        "\n",
        "    E_ins.append(E_ins_for_lambda)\n",
        "    E_outs.append(E_outs_for_lambda)\n",
        "\n",
        "\n",
        "# Plot values of E_in across k for each value of lambda\n",
        "for i in range(len(regs)):\n",
        "    plt.plot(Ks, E_ins[i], label='$E_{in}, \\lambda=$'+str(regs[i]))\n",
        "plt.title('$E_{in}$ vs. K')\n",
        "plt.xlabel('K')\n",
        "plt.ylabel('Error')\n",
        "plt.legend()\n",
        "plt.savefig('2e_ein.png')\t\n",
        "plt.clf()\n",
        "\n",
        "# Plot values of E_out across k for each value of lambda\n",
        "for i in range(len(regs)):\n",
        "    plt.plot(Ks, E_outs[i], label='$E_{out}, \\lambda=$'+str(regs[i]))\n",
        "plt.title('$E_{out}$ vs. K')\n",
        "plt.xlabel('K')\n",
        "plt.ylabel('Error')\n",
        "plt.legend()\t\n",
        "plt.savefig('2e_eout.png')\t\t\n"
      ]
    },
    {
      "cell_type": "code",
      "execution_count": null,
      "metadata": {
        "id": "trmqdhzlalkI"
      },
      "outputs": [],
      "source": []
    }
  ],
  "metadata": {
    "colab": {
      "provenance": []
    },
    "kernelspec": {
      "display_name": "Python 3",
      "language": "python",
      "name": "python3"
    },
    "language_info": {
      "codemirror_mode": {
        "name": "ipython",
        "version": 3
      },
      "file_extension": ".py",
      "mimetype": "text/x-python",
      "name": "python",
      "nbconvert_exporter": "python",
      "pygments_lexer": "ipython3",
      "version": "3.9.13"
    },
    "vscode": {
      "interpreter": {
        "hash": "e899050e220c69a167a6653511abed74117c9f8925d4248e4a9bfeb9609dec5b"
      }
    }
  },
  "nbformat": 4,
  "nbformat_minor": 0
}
